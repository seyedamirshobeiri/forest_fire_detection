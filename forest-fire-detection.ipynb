{
 "cells": [
  {
   "cell_type": "markdown",
   "id": "b5687681",
   "metadata": {},
   "source": [
    "# library"
   ]
  },
  {
   "cell_type": "code",
   "execution_count": 114,
   "id": "50c8711c",
   "metadata": {},
   "outputs": [],
   "source": [
    "import numpy as np\n",
    "import cv2\n",
    "import glob\n",
    "\n",
    "from sklearn.model_selection import train_test_split\n",
    "from sklearn.neighbors import KNeighborsClassifier\n",
    "from sklearn.metrics import accuracy_score,recall_score,precision_score\n",
    "\n",
    "\n",
    "from joblib import dump,load"
   ]
  },
  {
   "cell_type": "markdown",
   "id": "ff03d730",
   "metadata": {},
   "source": [
    "# Read Datasets"
   ]
  },
  {
   "cell_type": "code",
   "execution_count": 115,
   "id": "9be4cb57",
   "metadata": {},
   "outputs": [],
   "source": [
    "data_list=[]\n",
    "labels=[]"
   ]
  },
  {
   "cell_type": "code",
   "execution_count": 116,
   "id": "9c553ce0",
   "metadata": {},
   "outputs": [],
   "source": [
    "for address in glob.glob('fire_dataset\\\\*\\\\*'):\n",
    "    img = cv2.imread(address)\n",
    "    img = cv2.resize(img,(32,32))\n",
    "    img = img / 255.0\n",
    "    img = img.flatten()\n",
    "    data_list.append(img)\n",
    "    \n",
    "    label=address.split('\\\\')[-1].split('.')[0]\n",
    "    labels.append(label)\n",
    "    "
   ]
  },
  {
   "cell_type": "code",
   "execution_count": 117,
   "id": "6d9c5add",
   "metadata": {},
   "outputs": [
    {
     "name": "stdout",
     "output_type": "stream",
     "text": [
      "(998, 3072)\n"
     ]
    }
   ],
   "source": [
    "data_list = np.array(data_list)\n",
    "\n",
    "print(data_list.shape)"
   ]
  },
  {
   "cell_type": "markdown",
   "id": "0d68e21e",
   "metadata": {},
   "source": [
    "# Train Model"
   ]
  },
  {
   "cell_type": "code",
   "execution_count": 118,
   "id": "7598910a",
   "metadata": {},
   "outputs": [],
   "source": [
    "x_train,x_test,y_train,y_test = train_test_split(data_list,labels,test_size=0.2,\n",
    "                                                 random_state=43)"
   ]
  },
  {
   "cell_type": "code",
   "execution_count": 119,
   "id": "eb740a39",
   "metadata": {},
   "outputs": [],
   "source": [
    "clf = KNeighborsClassifier()"
   ]
  },
  {
   "cell_type": "code",
   "execution_count": 120,
   "id": "fddb5e00",
   "metadata": {},
   "outputs": [
    {
     "data": {
      "text/plain": [
       "['fire_detector.z']"
      ]
     },
     "execution_count": 120,
     "metadata": {},
     "output_type": "execute_result"
    }
   ],
   "source": [
    "clf.fit(x_train,y_train)\n",
    "\n",
    "dump(clf,'fire_detector.z')"
   ]
  },
  {
   "cell_type": "code",
   "execution_count": 121,
   "id": "93691c77",
   "metadata": {},
   "outputs": [],
   "source": [
    "pred = clf.predict(x_test)"
   ]
  },
  {
   "cell_type": "markdown",
   "id": "dc7a6589",
   "metadata": {},
   "source": [
    "# Evaluation "
   ]
  },
  {
   "cell_type": "code",
   "execution_count": 122,
   "id": "aaee6ac0",
   "metadata": {},
   "outputs": [
    {
     "name": "stdout",
     "output_type": "stream",
     "text": [
      "accuracy   :  88.00\n",
      "recall     :  97.33\n",
      "precision  :  87.95\n"
     ]
    }
   ],
   "source": [
    "acc = accuracy_score(y_test,pred)\n",
    "recall = recall_score(y_test,pred,pos_label='fire')\n",
    "precision = precision_score(y_test,pred,pos_label='fire')\n",
    "\n",
    "\n",
    "print('accuracy   :  {:.2f}'.format(acc*100))\n",
    "print('recall     :  {:.2f}'.format(recall*100))\n",
    "print('precision  :  {:.2f}'.format(precision*100))"
   ]
  }
 ],
 "metadata": {
  "kernelspec": {
   "display_name": "Python 3",
   "language": "python",
   "name": "python3"
  },
  "language_info": {
   "codemirror_mode": {
    "name": "ipython",
    "version": 3
   },
   "file_extension": ".py",
   "mimetype": "text/x-python",
   "name": "python",
   "nbconvert_exporter": "python",
   "pygments_lexer": "ipython3",
   "version": "3.8.8"
  }
 },
 "nbformat": 4,
 "nbformat_minor": 5
}
